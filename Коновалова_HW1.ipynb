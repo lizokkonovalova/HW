{
 "cells": [
  {
   "cell_type": "markdown",
   "id": "29f4e027",
   "metadata": {},
   "source": [
    "Создайте numpy array с элементами от числа N до 0. Например, для N = 10 это будет array ([9, 8, 7, 6, 5, 4, 3, 2, 1, 0])."
   ]
  },
  {
   "cell_type": "code",
   "execution_count": 11,
   "id": "514ee0f5",
   "metadata": {},
   "outputs": [],
   "source": [
    "import numpy as np\n",
    "from numpy import linalg"
   ]
  },
  {
   "cell_type": "code",
   "execution_count": 7,
   "id": "afb2e12a",
   "metadata": {},
   "outputs": [
    {
     "data": {
      "text/plain": [
       "array([9, 8, 7, 6, 5, 4, 3, 2, 1, 0])"
      ]
     },
     "execution_count": 7,
     "metadata": {},
     "output_type": "execute_result"
    }
   ],
   "source": [
    "x = np.arange(9, -1, -1)\n",
    "x"
   ]
  },
  {
   "cell_type": "markdown",
   "id": "5a5d34dd",
   "metadata": {},
   "source": [
    "Создайте диагональную матрицу с элементами от N до 0. Посчитайте сумму её значений на диагонали."
   ]
  },
  {
   "cell_type": "code",
   "execution_count": 9,
   "id": "ce44fbbd",
   "metadata": {},
   "outputs": [
    {
     "data": {
      "text/plain": [
       "45"
      ]
     },
     "execution_count": 9,
     "metadata": {},
     "output_type": "execute_result"
    }
   ],
   "source": [
    "y = np.diag(np.arange(9,-1,-1), k = 0)\n",
    "np.sum(y.ravel())"
   ]
  },
  {
   "cell_type": "markdown",
   "id": "6480d4c4",
   "metadata": {},
   "source": [
    "Решите систему уравнений:\n",
    "\n",
    "4x + 2y + z = 4\n",
    "x + 3y = 12\n",
    "5y + 4z = -3"
   ]
  },
  {
   "cell_type": "code",
   "execution_count": 10,
   "id": "f95b5baa",
   "metadata": {},
   "outputs": [],
   "source": [
    "a = ([4,2,1], [1,3, 0], [0,5,4])\n",
    "b = ([4, 12, -3])"
   ]
  },
  {
   "cell_type": "code",
   "execution_count": 12,
   "id": "8ecb4b81",
   "metadata": {},
   "outputs": [
    {
     "data": {
      "text/plain": [
       "array([ 0.46666667,  3.84444444, -5.55555556])"
      ]
     },
     "execution_count": 12,
     "metadata": {},
     "output_type": "execute_result"
    }
   ],
   "source": [
    "result = linalg.solve(a,b)\n",
    "result"
   ]
  },
  {
   "cell_type": "code",
   "execution_count": null,
   "id": "1494ef20",
   "metadata": {},
   "outputs": [],
   "source": []
  }
 ],
 "metadata": {
  "kernelspec": {
   "display_name": "Python 3 (ipykernel)",
   "language": "python",
   "name": "python3"
  },
  "language_info": {
   "codemirror_mode": {
    "name": "ipython",
    "version": 3
   },
   "file_extension": ".py",
   "mimetype": "text/x-python",
   "name": "python",
   "nbconvert_exporter": "python",
   "pygments_lexer": "ipython3",
   "version": "3.9.12"
  }
 },
 "nbformat": 4,
 "nbformat_minor": 5
}
