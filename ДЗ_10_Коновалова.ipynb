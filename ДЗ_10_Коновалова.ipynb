{
 "cells": [
  {
   "cell_type": "code",
   "execution_count": 14,
   "id": "e16fd1b9",
   "metadata": {},
   "outputs": [],
   "source": [
    "import pandas as pd\n",
    "from scipy import stats\n",
    "from sklearn.cluster import KMeans\n",
    "import matplotlib.pyplot as plt\n",
    "from datetime import datetime"
   ]
  },
  {
   "cell_type": "code",
   "execution_count": 15,
   "id": "0a8a22fd",
   "metadata": {},
   "outputs": [
    {
     "name": "stdout",
     "output_type": "stream",
     "text": [
      "  customer_id trans_date  tran_amount\n",
      "0      CS5295  11-Feb-13           35\n",
      "1      CS4768  15-Mar-15           39\n",
      "2      CS2122  26-Feb-13           52\n",
      "3      CS1217  16-Nov-11           99\n",
      "4      CS1850  20-Nov-13           78\n",
      "<class 'pandas.core.frame.DataFrame'>\n",
      "RangeIndex: 125000 entries, 0 to 124999\n",
      "Data columns (total 3 columns):\n",
      " #   Column       Non-Null Count   Dtype \n",
      "---  ------       --------------   ----- \n",
      " 0   customer_id  125000 non-null  object\n",
      " 1   trans_date   125000 non-null  object\n",
      " 2   tran_amount  125000 non-null  int64 \n",
      "dtypes: int64(1), object(2)\n",
      "memory usage: 2.9+ MB\n",
      "None\n"
     ]
    }
   ],
   "source": [
    "df = pd.read_csv('Retail_Data_Transactions.csv')\n",
    "print(df.head())\n",
    "print(df.info())"
   ]
  },
  {
   "cell_type": "code",
   "execution_count": 16,
   "id": "357726ef",
   "metadata": {},
   "outputs": [
    {
     "data": {
      "text/html": [
       "<div>\n",
       "<style scoped>\n",
       "    .dataframe tbody tr th:only-of-type {\n",
       "        vertical-align: middle;\n",
       "    }\n",
       "\n",
       "    .dataframe tbody tr th {\n",
       "        vertical-align: top;\n",
       "    }\n",
       "\n",
       "    .dataframe thead th {\n",
       "        text-align: right;\n",
       "    }\n",
       "</style>\n",
       "<table border=\"1\" class=\"dataframe\">\n",
       "  <thead>\n",
       "    <tr style=\"text-align: right;\">\n",
       "      <th></th>\n",
       "      <th>customer_id</th>\n",
       "      <th>trans_date</th>\n",
       "      <th>tran_amount</th>\n",
       "    </tr>\n",
       "  </thead>\n",
       "  <tbody>\n",
       "    <tr>\n",
       "      <th>0</th>\n",
       "      <td>CS5295</td>\n",
       "      <td>2013-02-11</td>\n",
       "      <td>35</td>\n",
       "    </tr>\n",
       "    <tr>\n",
       "      <th>1</th>\n",
       "      <td>CS4768</td>\n",
       "      <td>2015-03-15</td>\n",
       "      <td>39</td>\n",
       "    </tr>\n",
       "    <tr>\n",
       "      <th>2</th>\n",
       "      <td>CS2122</td>\n",
       "      <td>2013-02-26</td>\n",
       "      <td>52</td>\n",
       "    </tr>\n",
       "    <tr>\n",
       "      <th>3</th>\n",
       "      <td>CS1217</td>\n",
       "      <td>2011-11-16</td>\n",
       "      <td>99</td>\n",
       "    </tr>\n",
       "    <tr>\n",
       "      <th>4</th>\n",
       "      <td>CS1850</td>\n",
       "      <td>2013-11-20</td>\n",
       "      <td>78</td>\n",
       "    </tr>\n",
       "  </tbody>\n",
       "</table>\n",
       "</div>"
      ],
      "text/plain": [
       "  customer_id trans_date  tran_amount\n",
       "0      CS5295 2013-02-11           35\n",
       "1      CS4768 2015-03-15           39\n",
       "2      CS2122 2013-02-26           52\n",
       "3      CS1217 2011-11-16           99\n",
       "4      CS1850 2013-11-20           78"
      ]
     },
     "execution_count": 16,
     "metadata": {},
     "output_type": "execute_result"
    }
   ],
   "source": [
    "df['trans_date'] = pd.to_datetime(df['trans_date'])\n",
    "df.head()"
   ]
  },
  {
   "cell_type": "code",
   "execution_count": 17,
   "id": "df13a906",
   "metadata": {},
   "outputs": [
    {
     "data": {
      "text/plain": [
       "(customer_id    0\n",
       " trans_date     0\n",
       " tran_amount    0\n",
       " dtype: int64,\n",
       " 6)"
      ]
     },
     "execution_count": 17,
     "metadata": {},
     "output_type": "execute_result"
    }
   ],
   "source": [
    "missing_values = df.isnull().sum()\n",
    "duplicates = df.duplicated().sum()\n",
    "missing_values, duplicates"
   ]
  },
  {
   "cell_type": "code",
   "execution_count": 18,
   "id": "273aa322",
   "metadata": {},
   "outputs": [
    {
     "name": "stdout",
     "output_type": "stream",
     "text": [
      "             Recency  Frequency  Monetary\n",
      "customer_id                              \n",
      "CS1112            61         15      1012\n",
      "CS1113            35         20      1490\n",
      "CS1114            32         19      1432\n",
      "CS1115            11         22      1659\n",
      "CS1116           203         13       857\n",
      "********************\n",
      "           Recency    Frequency     Monetary\n",
      "count  6889.000000  6889.000000  6889.000000\n",
      "mean     80.538249    18.144869  1179.269705\n",
      "std      85.382526     5.193014   465.832609\n",
      "min       0.000000     4.000000   149.000000\n",
      "25%      22.000000    14.000000   781.000000\n",
      "50%      53.000000    18.000000  1227.000000\n",
      "75%     111.000000    22.000000  1520.000000\n",
      "max     857.000000    39.000000  2933.000000\n"
     ]
    }
   ],
   "source": [
    "# Вычисляем Recency, Frequency и Monetary для каждого клиента\n",
    "latest_date = df['trans_date'].max()\n",
    "rfm_data = df.groupby('customer_id').agg({\n",
    "    'trans_date': lambda x: (latest_date - x.max()).days,\n",
    "    'customer_id': 'count',\n",
    "    'tran_amount': 'sum'\n",
    "}).rename(columns={'trans_date': 'Recency', 'customer_id': 'Frequency', 'tran_amount': 'Monetary'})\n",
    "print(rfm_data.head())\n",
    "print('*'*20)\n",
    "print(rfm_data.describe())"
   ]
  },
  {
   "cell_type": "code",
   "execution_count": 19,
   "id": "4ce04930",
   "metadata": {},
   "outputs": [
    {
     "name": "stdout",
     "output_type": "stream",
     "text": [
      "t-статистика: 15.406833929185085\n",
      "p-значение: 1.1060675509316575e-52\n",
      "Существует статистически значимая разница в переменной Frequency между группами.\n"
     ]
    }
   ],
   "source": [
    "#t-test\n",
    "low_recency_group = rfm_data[rfm_data['Recency'] <= 53]['Frequency']\n",
    "high_recency_group = rfm_data[rfm_data['Recency'] > 53]['Frequency']\n",
    "\n",
    "\n",
    "t_statistic, p_value = stats.ttest_ind(low_recency_group, high_recency_group)\n",
    "\n",
    "\n",
    "print(f\"t-статистика: {t_statistic}\")\n",
    "print(f\"p-значение: {p_value}\")\n",
    "\n",
    "alpha = 0.05  \n",
    "if p_value < alpha:\n",
    "    print(\"Существует статистически значимая разница в переменной Frequency между группами.\")\n",
    "else:\n",
    "    print(\"Нет статистически значимой разницы в переменной Frequency между группами.\")"
   ]
  },
  {
   "cell_type": "code",
   "execution_count": 20,
   "id": "95f67991",
   "metadata": {},
   "outputs": [
    {
     "data": {
      "text/html": [
       "<div>\n",
       "<style scoped>\n",
       "    .dataframe tbody tr th:only-of-type {\n",
       "        vertical-align: middle;\n",
       "    }\n",
       "\n",
       "    .dataframe tbody tr th {\n",
       "        vertical-align: top;\n",
       "    }\n",
       "\n",
       "    .dataframe thead th {\n",
       "        text-align: right;\n",
       "    }\n",
       "</style>\n",
       "<table border=\"1\" class=\"dataframe\">\n",
       "  <thead>\n",
       "    <tr style=\"text-align: right;\">\n",
       "      <th></th>\n",
       "      <th>Recency</th>\n",
       "      <th>Frequency</th>\n",
       "      <th>Monetary</th>\n",
       "      <th>R</th>\n",
       "      <th>F</th>\n",
       "      <th>M</th>\n",
       "      <th>RFM_Segment</th>\n",
       "      <th>RFM_Score</th>\n",
       "      <th>Customer_Label</th>\n",
       "    </tr>\n",
       "    <tr>\n",
       "      <th>customer_id</th>\n",
       "      <th></th>\n",
       "      <th></th>\n",
       "      <th></th>\n",
       "      <th></th>\n",
       "      <th></th>\n",
       "      <th></th>\n",
       "      <th></th>\n",
       "      <th></th>\n",
       "      <th></th>\n",
       "    </tr>\n",
       "  </thead>\n",
       "  <tbody>\n",
       "    <tr>\n",
       "      <th>CS1112</th>\n",
       "      <td>61</td>\n",
       "      <td>15</td>\n",
       "      <td>1012</td>\n",
       "      <td>2</td>\n",
       "      <td>2</td>\n",
       "      <td>2</td>\n",
       "      <td>222</td>\n",
       "      <td>6</td>\n",
       "      <td>Promising</td>\n",
       "    </tr>\n",
       "    <tr>\n",
       "      <th>CS1113</th>\n",
       "      <td>35</td>\n",
       "      <td>20</td>\n",
       "      <td>1490</td>\n",
       "      <td>3</td>\n",
       "      <td>3</td>\n",
       "      <td>3</td>\n",
       "      <td>333</td>\n",
       "      <td>9</td>\n",
       "      <td>Champion</td>\n",
       "    </tr>\n",
       "    <tr>\n",
       "      <th>CS1114</th>\n",
       "      <td>32</td>\n",
       "      <td>19</td>\n",
       "      <td>1432</td>\n",
       "      <td>3</td>\n",
       "      <td>3</td>\n",
       "      <td>3</td>\n",
       "      <td>333</td>\n",
       "      <td>9</td>\n",
       "      <td>Champion</td>\n",
       "    </tr>\n",
       "    <tr>\n",
       "      <th>CS1115</th>\n",
       "      <td>11</td>\n",
       "      <td>22</td>\n",
       "      <td>1659</td>\n",
       "      <td>4</td>\n",
       "      <td>3</td>\n",
       "      <td>4</td>\n",
       "      <td>434</td>\n",
       "      <td>11</td>\n",
       "      <td>Champion</td>\n",
       "    </tr>\n",
       "    <tr>\n",
       "      <th>CS1116</th>\n",
       "      <td>203</td>\n",
       "      <td>13</td>\n",
       "      <td>857</td>\n",
       "      <td>1</td>\n",
       "      <td>1</td>\n",
       "      <td>2</td>\n",
       "      <td>112</td>\n",
       "      <td>4</td>\n",
       "      <td>Require Activation</td>\n",
       "    </tr>\n",
       "  </tbody>\n",
       "</table>\n",
       "</div>"
      ],
      "text/plain": [
       "             Recency  Frequency  Monetary  R  F  M RFM_Segment  RFM_Score  \\\n",
       "customer_id                                                                 \n",
       "CS1112            61         15      1012  2  2  2         222          6   \n",
       "CS1113            35         20      1490  3  3  3         333          9   \n",
       "CS1114            32         19      1432  3  3  3         333          9   \n",
       "CS1115            11         22      1659  4  3  4         434         11   \n",
       "CS1116           203         13       857  1  1  2         112          4   \n",
       "\n",
       "                 Customer_Label  \n",
       "customer_id                      \n",
       "CS1112                Promising  \n",
       "CS1113                 Champion  \n",
       "CS1114                 Champion  \n",
       "CS1115                 Champion  \n",
       "CS1116       Require Activation  "
      ]
     },
     "execution_count": 20,
     "metadata": {},
     "output_type": "execute_result"
    }
   ],
   "source": [
    "# Разделяем метрики на квантили\n",
    "quantiles = rfm_data.quantile(q=[0.25, 0.5, 0.75])\n",
    "\n",
    "\n",
    "# Создаем функцию для присвоения ранга каждой метрике\n",
    "def r_score(x, column, quantiles):\n",
    "    if x <= quantiles[column][0.25]:\n",
    "        return 4\n",
    "    elif x <= quantiles[column][0.50]:\n",
    "        return 3\n",
    "    elif x <= quantiles[column][0.75]:\n",
    "        return 2\n",
    "    else:\n",
    "        return 1\n",
    "\n",
    "def fm_score(x, column, quantiles):\n",
    "    if x <= quantiles[column][0.25]:\n",
    "        return 1\n",
    "    elif x <= quantiles[column][0.50]:\n",
    "        return 2\n",
    "    elif x <= quantiles[column][0.75]:\n",
    "        return 3\n",
    "    else:\n",
    "        return 4\n",
    "\n",
    "# Применяем функции к датасету\n",
    "rfm_data['R'] = rfm_data['Recency'].apply(r_score, args=('Recency', quantiles))\n",
    "rfm_data['F'] = rfm_data['Frequency'].apply(fm_score, args=('Frequency', quantiles))\n",
    "rfm_data['M'] = rfm_data['Monetary'].apply(fm_score, args=('Monetary', quantiles))\n",
    "\n",
    "# Создаем сегменты клиентов\n",
    "rfm_data['RFM_Segment'] = rfm_data['R'].astype(str) + rfm_data['F'].astype(str) + rfm_data['M'].astype(str)\n",
    "rfm_data['RFM_Score'] = rfm_data[['R', 'F', 'M']].sum(axis=1)\n",
    "\n",
    "# Определяем лейблы для клиентов\n",
    "def get_label(x):\n",
    "    if x >= 9:\n",
    "        return 'Champion'\n",
    "    elif x >= 8:\n",
    "        return 'Loyal Customer'\n",
    "    elif x >= 7:\n",
    "        return 'Potential Loyalist'\n",
    "    elif x >= 6:\n",
    "        return 'Promising'\n",
    "    elif x >= 5:\n",
    "        return 'Needs Attention'\n",
    "    else:\n",
    "        return 'Require Activation'\n",
    "\n",
    "rfm_data['Customer_Label'] = rfm_data['RFM_Score'].apply(get_label)\n",
    "rfm_data.head()"
   ]
  },
  {
   "cell_type": "code",
   "execution_count": 21,
   "id": "b4610e33",
   "metadata": {},
   "outputs": [
    {
     "data": {
      "image/png": "[encoded data removed]",
      "text/plain": [
       "<Figure size 432x288 with 1 Axes>"
      ]
     },
     "metadata": {
      "needs_background": "light"
     },
     "output_type": "display_data"
    },
    {
     "name": "stdout",
     "output_type": "stream",
     "text": [
      "      Recency  Frequency     Monetary\n",
      "0  114.093023  12.393186   566.396431\n",
      "1   64.976345  20.596939  1444.696197\n",
      "2   82.628234  16.362767  1075.155793\n",
      "3   51.417722  25.845389  1853.824593\n",
      "             Recency  Frequency  Monetary    Segment\n",
      "customer_id                                         \n",
      "CS1112            61         15      1012  Segment 3\n",
      "CS1113            35         20      1490  Segment 2\n",
      "CS1114            32         19      1432  Segment 2\n",
      "CS1115            11         22      1659  Segment 4\n",
      "CS1116           203         13       857  Segment 3\n",
      "...              ...        ...       ...        ...\n",
      "CS8996            97         13       582  Segment 1\n",
      "CS8997           261         14       543  Segment 1\n",
      "CS8998            84         13       624  Segment 1\n",
      "CS8999           257         12       383  Segment 1\n",
      "CS9000            16         13       533  Segment 1\n",
      "\n",
      "[6889 rows x 4 columns]\n"
     ]
    }
   ],
   "source": [
    "X = rfm_data[['Recency', 'Frequency', 'Monetary']]\n",
    "\n",
    "# Обучение модели K-Means\n",
    "kmeans = KMeans(n_clusters=4, random_state=42)\n",
    "rfm_data['Cluster'] = kmeans.fit_predict(X)\n",
    "\n",
    "\n",
    "scatter = plt.scatter(rfm_data['Recency'], rfm_data['Frequency'], c=rfm_data['Cluster'], cmap='viridis')\n",
    "plt.xlabel('Recency')\n",
    "plt.ylabel('Frequency')\n",
    "plt.title('K-Means Clustering')\n",
    "legend_labels = ['Segment 1', 'Segment 2', 'Segment 3', 'Segment 4']\n",
    "plt.legend(handles=scatter.legend_elements()[0], labels=legend_labels)\n",
    "plt.show()\n",
    "\n",
    "# Вывод средних значений каждого кластера\n",
    "cluster_centers = pd.DataFrame(kmeans.cluster_centers_, columns=['Recency', 'Frequency', 'Monetary'])\n",
    "print(cluster_centers)\n",
    "\n",
    "# Присвоение меток сегментам\n",
    "def assign_segment(cluster):\n",
    "    if cluster == 0:\n",
    "        return 'Segment 1'\n",
    "    elif cluster == 1:\n",
    "        return 'Segment 2'\n",
    "    elif cluster == 2:\n",
    "        return 'Segment 3'\n",
    "    else:\n",
    "        return 'Segment 4'\n",
    "\n",
    "rfm_data['Segment'] = rfm_data['Cluster'].apply(assign_segment)\n",
    "\n",
    "\n",
    "print(rfm_data[['Recency', 'Frequency', 'Monetary', 'Segment']])"
   ]
  },
  {
   "cell_type": "markdown",
   "id": "280a550f",
   "metadata": {},
   "source": [
    "Сегмент 1: имеет сравнительно большой Recency, то есть клиенты из этого сегмента давно не совершали покупкии крайне редко это делают (низкая Frequency), а также тратят мало денег (низкая Monetary). Возможно, такой сегмент клиентов сервисом больше пользуется"
   ]
  },
  {
   "cell_type": "markdown",
   "id": "29928b72",
   "metadata": {},
   "source": [
    "Сегмент 2: Recency меньше, что указывает на то, что клиенты недавно совершали покупки. Клиенты из этого сегмента совершают покупки средней частоты и тратят среднюю сумму денег."
   ]
  },
  {
   "cell_type": "markdown",
   "id": "f7c25f57",
   "metadata": {},
   "source": [
    "Сегмент 3: низкий Recency, что может указывать на недавние покупки, но клиенты совершают меньше покупок и тратят меньше денег по сравнению с сегментом 2. Это может быть сегментом клиентов, которые вернулись, но еще не совершают много покупок."
   ]
  },
  {
   "cell_type": "markdown",
   "id": "f9491dd2",
   "metadata": {},
   "source": [
    "Сегмент 4: низкий Recency, высокой Frequency и высокой Monetary. Это может быть сегментом высокодоходных клиентов, которые совершают частые и крупные покупки.\n"
   ]
  },
  {
   "cell_type": "code",
   "execution_count": null,
   "id": "9b3d1366",
   "metadata": {},
   "outputs": [],
   "source": []
  }
 ],
 "metadata": {
  "kernelspec": {
   "display_name": "Python 3 (ipykernel)",
   "language": "python",
   "name": "python3"
  },
  "language_info": {
   "codemirror_mode": {
    "name": "ipython",
    "version": 3
   },
   "file_extension": ".py",
   "mimetype": "text/x-python",
   "name": "python",
   "nbconvert_exporter": "python",
   "pygments_lexer": "ipython3",
   "version": "3.9.12"
  }
 },
 "nbformat": 4,
 "nbformat_minor": 5
}
